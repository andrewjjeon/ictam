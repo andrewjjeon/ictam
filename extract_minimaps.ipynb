{
 "cells": [
  {
   "cell_type": "code",
   "execution_count": 1,
   "id": "93d202fe",
   "metadata": {},
   "outputs": [],
   "source": [
    "import cv2\n",
    "import os\n",
    "import json\n",
    "import subprocess"
   ]
  },
  {
   "cell_type": "code",
   "execution_count": null,
   "id": "14055022",
   "metadata": {},
   "outputs": [],
   "source": [
    "input_dir = r\"C:\\Users\\Andrew Jeon\\OneDrive\\Desktop\\ICTAM\\videos\"\n",
    "img_dir = r\"C:\\Users\\Andrew Jeon\\OneDrive\\Desktop\\ICTAM\\data\\images\""
   ]
  },
  {
   "cell_type": "code",
   "execution_count": 3,
   "id": "e845131c",
   "metadata": {},
   "outputs": [],
   "source": [
    "### GENERATE IMAGES ###\n",
    "# downloaded ArtosisCasts up to Dark Rizzler\n",
    "# yt-dlp -f \"bv[height=1080][ext=mp4]\" --remux-video mp4 -o \"%(title)s.%(ext)s\" -a links.txt\n",
    "# yt-dlp -f \"bv[height=1080][ext=mp4]\" --remux-video mp4 -o \"%(title)s.%(ext)s\" \"https://www.youtube.com/watch?v=WNr9fuccoxg&t=169s\"\n",
    "# GENERATE MINIMAP FRAMES WITH CROP FOR 1080P video\n",
    "\n",
    "for filename in os.listdir(input_dir):\n",
    "    if filename.lower().endswith('.mp4'):\n",
    "        video_path = os.path.join(input_dir, filename)\n",
    "        name, ext = os.path.splitext(filename)\n",
    "        img_name = os.path.join(img_dir, f\"{name}_%03d.jpg\")\n",
    "\n",
    "        cmd = [\n",
    "            r\"C:\\Users\\Andrew Jeon\\OneDrive\\Desktop\\ffmpeg-7.0.2-essentials_build\\bin\\ffmpeg.exe\",\n",
    "            \"-i\", video_path,\n",
    "            \"-vf\", \"fps=1/60,crop=295:295:10:775\",  #775-1070 height, 10-305 width\n",
    "            \"-q:v\", \"2\",  # high quality\n",
    "            img_name\n",
    "        ]\n",
    "        subprocess.run(cmd, check=True)"
   ]
  },
  {
   "cell_type": "code",
   "execution_count": null,
   "id": "4c861e3d",
   "metadata": {},
   "outputs": [
    {
     "name": "stdout",
     "output_type": "stream",
     "text": [
      "Saved 1511 prompt-response entries to C:\\Users\\Andrew Jeon\\OneDrive\\Desktop\\AISAA\\data\\minimap_annot.json\n"
     ]
    }
   ],
   "source": [
    "### GENERATE ANNOTATIONS ###\n",
    "\n",
    "# VQA Train on image + Questions + Answers\n",
    "# BLIP-2 + Flan-T5 Base Trained   vs   BLIP-2 + Flan-T5 XL Baseline\n",
    "# Large and XL are too big to train\n",
    "#\n",
    "# _________________________\n",
    "# DATA\n",
    "# _________________________  \n",
    "# art1-art16 just 16 videos ~ 300 clips (1min)\n",
    "\n",
    "# project/\n",
    "# ├── images/\n",
    "# │   ├── art1_001.jpg\n",
    "# │   ├── art1_002.jpg\n",
    "# ├── your_annotations.json\n",
    "\n",
    "# Clips may make more sense for strategic reasoning, temporal aspect. Later on sample 8 frames per clip with one caption per clip to get temporal reasoning.\n",
    "# data/\n",
    "# ├── images/\n",
    "# │   ├── art1_c01/\n",
    "# │   │   ├── frame_00.jpg  ← earliest (e.g., t=0s)\n",
    "# │   │   ├── frame_01.jpg\n",
    "# │   │   ├── ...\n",
    "# │   │   └── frame_07.jpg  ← latest (e.g., t=60s)\n",
    "# │   ├── art1_c02/\n",
    "# │   │   ├── frame_00.jpg\n",
    "# │   │   └── ...\n",
    "# │   └── ...\n",
    "# ├── minimap_annot.json\n",
    "# │   {\n",
    "# │     \"art1_c01\": \"Red expands while Blue gathers forces near the center.\",\n",
    "# │     \"art1_c02\": \"Blue scouts the bottom corner as Red fortifies their second base.\",\n",
    "# │   }\n",
    "\n",
    "output_dir = r\"C:\\Users\\Andrew Jeon\\OneDrive\\Desktop\\ICTAM\\data\\minimap_annot.json\"\n",
    "\n",
    "entries = []\n",
    "for filename in sorted(os.listdir(img_dir)):\n",
    "    if filename.lower().endswith(\".jpg\"):\n",
    "        entries.append({\n",
    "            \"image\": filename,\n",
    "            \"text_input\": \"Who is winning? Describe the minimap.\",\n",
    "            \"text_output\": \"\",\n",
    "        })\n",
    "\n",
    "with open(output_dir, \"w\") as f:\n",
    "    json.dump(entries, f, indent=4)\n",
    "\n",
    "print(f\"Saved {len(entries)} prompt-response entries to {output_dir}\")"
   ]
  }
 ],
 "metadata": {
  "kernelspec": {
   "display_name": "AISAA",
   "language": "python",
   "name": "python3"
  },
  "language_info": {
   "codemirror_mode": {
    "name": "ipython",
    "version": 3
   },
   "file_extension": ".py",
   "mimetype": "text/x-python",
   "name": "python",
   "nbconvert_exporter": "python",
   "pygments_lexer": "ipython3",
   "version": "3.13.2"
  }
 },
 "nbformat": 4,
 "nbformat_minor": 5
}
